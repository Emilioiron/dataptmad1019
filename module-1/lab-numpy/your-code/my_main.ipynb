{
 "cells": [
  {
   "cell_type": "code",
   "execution_count": 11,
   "metadata": {},
   "outputs": [],
   "source": [
    "#1. Import the NUMPY package under the name np.\n",
    "import numpy as np\n"
   ]
  },
  {
   "cell_type": "code",
   "execution_count": 5,
   "metadata": {},
   "outputs": [
    {
     "name": "stdout",
     "output_type": "stream",
     "text": [
      "1.17.2\n",
      "blas_mkl_info:\n",
      "    libraries = ['mkl_rt', 'pthread']\n",
      "    library_dirs = ['/home/emilio/miniconda3/envs/test_env/lib']\n",
      "    define_macros = [('SCIPY_MKL_H', None), ('HAVE_CBLAS', None)]\n",
      "    include_dirs = ['/home/emilio/miniconda3/envs/test_env/include']\n",
      "blas_opt_info:\n",
      "    libraries = ['mkl_rt', 'pthread']\n",
      "    library_dirs = ['/home/emilio/miniconda3/envs/test_env/lib']\n",
      "    define_macros = [('SCIPY_MKL_H', None), ('HAVE_CBLAS', None)]\n",
      "    include_dirs = ['/home/emilio/miniconda3/envs/test_env/include']\n",
      "lapack_mkl_info:\n",
      "    libraries = ['mkl_rt', 'pthread']\n",
      "    library_dirs = ['/home/emilio/miniconda3/envs/test_env/lib']\n",
      "    define_macros = [('SCIPY_MKL_H', None), ('HAVE_CBLAS', None)]\n",
      "    include_dirs = ['/home/emilio/miniconda3/envs/test_env/include']\n",
      "lapack_opt_info:\n",
      "    libraries = ['mkl_rt', 'pthread']\n",
      "    library_dirs = ['/home/emilio/miniconda3/envs/test_env/lib']\n",
      "    define_macros = [('SCIPY_MKL_H', None), ('HAVE_CBLAS', None)]\n",
      "    include_dirs = ['/home/emilio/miniconda3/envs/test_env/include']\n",
      "None\n"
     ]
    }
   ],
   "source": [
    "#2. Print the NUMPY version and the configuration.\n",
    "print(np.version.version)\n",
    "print(np.show_config())\n"
   ]
  },
  {
   "cell_type": "code",
   "execution_count": 6,
   "metadata": {},
   "outputs": [
    {
     "name": "stdout",
     "output_type": "stream",
     "text": [
      "[[[0.45049577 0.34474736 0.62976191 0.85584154 0.66008854]\n",
      "  [0.51364124 0.81484741 0.94513154 0.78357197 0.48004015]\n",
      "  [0.27475766 0.47079353 0.78387278 0.11046966 0.23143233]]\n",
      "\n",
      " [[0.14519188 0.11192417 0.90759261 0.6223111  0.30343874]\n",
      "  [0.14232343 0.32824599 0.75077532 0.9103109  0.44001687]\n",
      "  [0.14344877 0.35354041 0.50837063 0.91778484 0.50096657]]]\n",
      "[[[0.14778902 0.30151522 0.4416763  0.36056014 0.96810611]\n",
      "  [0.54680509 0.3811747  0.45965716 0.17847672 0.74633218]\n",
      "  [0.31408097 0.76395654 0.17719351 0.47389445 0.89356284]]\n",
      "\n",
      " [[0.50152676 0.25275637 0.50901596 0.2962606  0.86673908]\n",
      "  [0.88829536 0.15545224 0.16520923 0.89648905 0.10455079]\n",
      "  [0.37193284 0.19944404 0.95936224 0.06921547 0.17330095]]]\n",
      "[[[0.5010245  0.17787598 0.21194023 0.20646768 0.0814723 ]\n",
      "  [0.39355625 0.10266434 0.48773791 0.53684782 0.71281753]\n",
      "  [0.99813088 0.70128142 0.34456778 0.01200052 0.27997458]]\n",
      "\n",
      " [[0.77750022 0.740056   0.76545223 0.30603881 0.26940666]\n",
      "  [0.1057901  0.33988497 0.43357153 0.57881466 0.15164336]\n",
      "  [0.23121062 0.9311403  0.3759771  0.52335261 0.92269159]]]\n"
     ]
    }
   ],
   "source": [
    "#3. Generate a 2x3x5 3-dimensional array with random values. Assign the array to variable \"a\"\n",
    "# Challenge: there are at least three easy ways that use numpy to generate random arrays. How many ways can you find?\n",
    "\n",
    "#4. Print a.\n",
    "\n",
    "a = np.random.random((2,3,5))\n",
    "print(a)\n",
    "\n",
    "a = np.random.rand(2,3,5) \n",
    "print(a)\n",
    "\n",
    "a = np.random.random_sample([2,3,5])\n",
    "print(a)\n",
    "\n",
    "\n"
   ]
  },
  {
   "cell_type": "code",
   "execution_count": 9,
   "metadata": {},
   "outputs": [
    {
     "data": {
      "text/plain": [
       "array([[[1., 1., 1.],\n",
       "        [1., 1., 1.]],\n",
       "\n",
       "       [[1., 1., 1.],\n",
       "        [1., 1., 1.]],\n",
       "\n",
       "       [[1., 1., 1.],\n",
       "        [1., 1., 1.]],\n",
       "\n",
       "       [[1., 1., 1.],\n",
       "        [1., 1., 1.]],\n",
       "\n",
       "       [[1., 1., 1.],\n",
       "        [1., 1., 1.]]])"
      ]
     },
     "execution_count": 9,
     "metadata": {},
     "output_type": "execute_result"
    }
   ],
   "source": [
    "#5. Create a 5x2x3 3-dimensional array with all values equaling 1.\n",
    "#Assign the array to variable \"b\"\n",
    "\n",
    "#6. Print b.\n",
    "\n",
    "b = np.ones((5,2,3))\n",
    "b"
   ]
  },
  {
   "cell_type": "code",
   "execution_count": null,
   "metadata": {},
   "outputs": [],
   "source": [
    "#7. Do a and b have the same size? How do you prove that in Python code?\n"
   ]
  }
 ],
 "metadata": {
  "kernelspec": {
   "display_name": "Python 3",
   "language": "python",
   "name": "python3"
  },
  "language_info": {
   "codemirror_mode": {
    "name": "ipython",
    "version": 3
   },
   "file_extension": ".py",
   "mimetype": "text/x-python",
   "name": "python",
   "nbconvert_exporter": "python",
   "pygments_lexer": "ipython3",
   "version": "3.7.5"
  }
 },
 "nbformat": 4,
 "nbformat_minor": 4
}
